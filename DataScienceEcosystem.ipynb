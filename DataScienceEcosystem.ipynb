{
  "metadata": {
    "kernelspec": {
      "name": "python",
      "display_name": "Python (Pyodide)",
      "language": "python"
    },
    "language_info": {
      "codemirror_mode": {
        "name": "python",
        "version": 3
      },
      "file_extension": ".py",
      "mimetype": "text/x-python",
      "name": "python",
      "nbconvert_exporter": "python",
      "pygments_lexer": "ipython3",
      "version": "3.8"
    }
  },
  "nbformat_minor": 5,
  "nbformat": 4,
  "cells": [
    {
      "id": "7c25701f-64cc-4f73-b437-e7e2fd605ecb",
      "cell_type": "markdown",
      "source": "<h1>Tools for Data Science",
      "metadata": {}
    },
    {
      "id": "4634bfb8-72f0-4f79-adf8-b7ca52394218",
      "cell_type": "markdown",
      "source": "Today, the amount of data is staggering due to technological developments. The Internet of Things (IoT) has greatly boosted non-relational databases, creating new barriers. To overcome these challenges, we rely on data science tools to assist us in our work. These tools allow us to efficiently collect, process, analyze, and visualize data, facilitating informed decision-making and the discovery of valuable patterns in large volumes of information.",
      "metadata": {}
    },
    {
      "id": "31225d2d-dd4e-4fca-9612-f485a38c03f0",
      "cell_type": "markdown",
      "source": "Some of the most widely used programming languages are:\n\n1. Python: It is the most popular due to its versatility and the large number of libraries available for data analysis, visualization, and machine learning.\n2. R: It is widely used for statistical analysis and data visualization.\nSQL: It is essential for managing and querying relational databases.\n3. Java: Used in big data applications and real-time processing.\n4. Scala: Popular in the big data ecosystem, especially with Apache Spar<",
      "metadata": {}
    },
    {
      "id": "c4719050-9bd4-4ac9-8921-5409b61c83c9",
      "cell_type": "markdown",
      "source": "Libraries:\n1. Pandas\n2. Numpy\n3. Scikit-learn",
      "metadata": {}
    },
    {
      "id": "215d529e-4adb-4748-a325-1c078ab1928b",
      "cell_type": "markdown",
      "source": "| Herramienta                |\n|----------------------------|\n| Jupyter Notebook           |\n| RStudio                    |\n| Apache Zeppelin            |",
      "metadata": {}
    },
    {
      "id": "d87c49cc-8a6e-44fa-91ba-aa88857bb323",
      "cell_type": "markdown",
      "source": "Arithmetic example:\n\n4+5 = 9,\n45-15 = 30,\n10/2 = 5",
      "metadata": {}
    },
    {
      "id": "cca64cbc-70eb-4bc6-8465-ee17b827930b",
      "cell_type": "code",
      "source": "#Simple code that solves arithmetic operations\nprint(\"multiplicacion: \",4*5)\nprint(\"Suma: \", 7+13)\nprint(\"resta: \", 434-123)\n",
      "metadata": {
        "trusted": true
      },
      "outputs": [
        {
          "name": "stdout",
          "output_type": "stream",
          "text": "multiplicacion:  20\nSuma:  20\nresta:  311\n"
        }
      ],
      "execution_count": 9
    },
    {
      "id": "81b1e8e4-e380-42be-a8e3-8a4d92edf03c",
      "cell_type": "code",
      "source": "#From minutes to hours\nminutos = 543\nprint(minutos/60)\n",
      "metadata": {
        "trusted": true
      },
      "outputs": [
        {
          "name": "stdout",
          "output_type": "stream",
          "text": "9.05\n"
        }
      ],
      "execution_count": 10
    },
    {
      "id": "59bd791b-c07b-4443-8f12-4eb9ab0e9ee5",
      "cell_type": "markdown",
      "source": "### goals\n* Know how to use Jupyter\n* Know data science tools\n* Know data science libraries",
      "metadata": {}
    },
    {
      "id": "aa7ee6a8-c925-4ddb-904e-af7de4c3fd0b",
      "cell_type": "markdown",
      "source": "Author: <H2 style heading>Cesar Arancibia",
      "metadata": {}
    }
  ]
}
